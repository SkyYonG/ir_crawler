{
 "cells": [
  {
   "cell_type": "code",
   "execution_count": 1,
   "metadata": {},
   "outputs": [],
   "source": [
    "import scrapy\n",
    "import requests\n",
    "from scrapy.http import TextResponse"
   ]
  },
  {
   "cell_type": "code",
   "execution_count": 144,
   "metadata": {},
   "outputs": [
    {
     "data": {
      "text/plain": [
       "<200 https://m.irgo.co.kr/IR%EC%9E%90%EB%A3%8C>"
      ]
     },
     "execution_count": 144,
     "metadata": {},
     "output_type": "execute_result"
    }
   ],
   "source": [
    "# IR GO 홈페이지 연결\n",
    "url = \"https://m.irgo.co.kr/IR%EC%9E%90%EB%A3%8C\"\n",
    "req = requests.get(url)\n",
    "response = TextResponse(req.url, body=req.text, encoding=\"utf-8\")\n",
    "response"
   ]
  },
  {
   "cell_type": "code",
   "execution_count": 145,
   "metadata": {},
   "outputs": [
    {
     "data": {
      "text/plain": [
       "['https://m.irgo.co.kr/IR자료/28195/TB/호전실업-호전실업-신영-2019-하반기-Corporate-day-참가국내',\n",
       " 'https://m.irgo.co.kr/IR자료/28197/TB/BNK금융지주-BNK금융지주-2019년-3분기-경영실적-및-주요-관심사항싱가포르-홍콩',\n",
       " 'https://m.irgo.co.kr/IR자료/28199/TB/현대모비스-현대모비스-Shinhan-Super-Corporate-Day-참석국내',\n",
       " 'https://m.irgo.co.kr/IR자료/28194/TB/현대제철-현대제철-2019-APAC-Resources-Conference-참석중국',\n",
       " 'https://m.irgo.co.kr/IR자료/28201/TB/코스맥스-코스맥스-신영-2019-하반기-CORPORATE-DAY-참가국내',\n",
       " 'https://m.irgo.co.kr/IR자료/28202/TB/코스맥스비티아이-코스맥스비티아이-신영-2019-하반기-CORPORATE-DAY-참가국내',\n",
       " 'https://m.irgo.co.kr/IR자료/28200/TB/브레인콘텐츠-브레인콘텐츠-회사현황-및-주요-경영현황-설명국내',\n",
       " 'https://m.irgo.co.kr/IR자료/28198/TB/디케이앤디-디케이앤디-2019년-3분기-실적-설명국내',\n",
       " 'https://m.irgo.co.kr/IR자료/28181/TB/신성이엔지-이젠-공기청정기도-빌트인-시대-B2C까지-사업-영역을-확장한-신성이엔지',\n",
       " 'https://m.irgo.co.kr/IR자료/28196/TB/코리아센터-코리아센터-신한-Corporate-Day-참가국내',\n",
       " 'https://m.irgo.co.kr/IR자료/28179/TB/IRGO-주담톡톡아이에스동서-IR담당자가-직접-전하는-기업-이야기',\n",
       " 'https://m.irgo.co.kr/IR자료/28188/TB/롯데지주-롯데지주-국내-자산운용-CIO조찬-간담회국내',\n",
       " 'https://m.irgo.co.kr/IR자료/28187/TB/유니퀘스트-유니퀘스트-주요-사업내용-및-계열회사-사업내용국내',\n",
       " 'https://m.irgo.co.kr/IR자료/28186/TB/이스트소프트-이스트소프트-자회사-줌인터넷-KB증권과-맞손-포털-사업-넘어-테크핀-기업으로-전환-시동',\n",
       " 'https://m.irgo.co.kr/IR자료/28185/TB/한세예스24홀딩스-한세예스24홀딩스-신영증권-2019년-하반기-Corporate-Day-참가국내',\n",
       " 'https://m.irgo.co.kr/IR자료/28184/TB/코스맥스비티아이-코스맥스비티아이-제-8회-IBKS-CONSUMER-DAY-참가국내',\n",
       " 'https://m.irgo.co.kr/IR자료/28183/TB/코스맥스-코스맥스-제-8회-IBKS-CONSUMER-DAY-참가국내',\n",
       " 'https://m.irgo.co.kr/IR자료/28162/TB/제이콘텐트리-제이콘텐트리-신한-Super-Corporate-Day-참석국내',\n",
       " 'https://m.irgo.co.kr/IR자료/28172/TB/삼성물산-삼성물산-주요-경영현황-설명국내',\n",
       " 'https://m.irgo.co.kr/IR자료/28163/TB/대한항공-대한항공-신한금융투자-Corp-day-참석국내',\n",
       " 'https://m.irgo.co.kr/IR자료/28173/TB/하나투어-하나투어-신한-Corporate-Day-참가국내',\n",
       " 'https://m.irgo.co.kr/IR자료/28171/TB/에스티팜-에스티팜-2019년-코스닥-프리미어-컨퍼런스-참가국내',\n",
       " 'https://m.irgo.co.kr/IPO자료/28165/TB/IRGO-금주의-IPO현황-12월-02일--12월-06일',\n",
       " 'https://m.irgo.co.kr/IR자료/28161/TB/제이브이엠-제이브이엠-주요-경영현황-공유국내',\n",
       " 'https://m.irgo.co.kr/IR자료/28160/TB/LG-LG-주요-경영현황-설명미국',\n",
       " 'https://m.irgo.co.kr/IR자료/28159/TB/유바이오로직스-유바이오로직스-향후-추진사업-및-실적-설명국내',\n",
       " 'https://m.irgo.co.kr/IR자료/28158/TB/랩지노믹스-랩지노믹스-중국-현지법인과-기술이전-계약-체결',\n",
       " 'https://m.irgo.co.kr/IR자료/28155/TB/아우딘퓨쳐스-아우딘퓨쳐스-3분기QoQ-실적-Review',\n",
       " 'https://m.irgo.co.kr/IR자료/28150/TB/다원시스-다원시스-주요-경영현황-설명국내',\n",
       " 'https://m.irgo.co.kr/IR자료/28152/TB/휴온스-휴온스-2019년-코스닥-프리미어-컨퍼런스-참가국내']"
      ]
     },
     "execution_count": 145,
     "metadata": {},
     "output_type": "execute_result"
    }
   ],
   "source": [
    "name = response.xpath('//*[@id=\"irDataList\"]/div/div[2]/span[1]/text()').extract()\n",
    "date = response.xpath('//*[@id=\"irDataList\"]/div/div[2]/span[3]/text()').extract()\n",
    "links = response.xpath('//*[@id=\"irDataList\"]/div/@data-href').extract()\n",
    "links"
   ]
  },
  {
   "cell_type": "markdown",
   "metadata": {},
   "source": [
    "### 세부 정보 크롤링"
   ]
  },
  {
   "cell_type": "code",
   "execution_count": 67,
   "metadata": {},
   "outputs": [
    {
     "data": {
      "text/plain": [
       "<200 https://m.irgo.co.kr/IR%EC%9E%90%EB%A3%8C/28195/TB/%ED%98%B8%EC%A0%84%EC%8B%A4%EC%97%85-%ED%98%B8%EC%A0%84%EC%8B%A4%EC%97%85-%EC%8B%A0%EC%98%81-2019-%ED%95%98%EB%B0%98%EA%B8%B0-Corporate-day-%EC%B0%B8%EA%B0%80%EA%B5%AD%EB%82%B4>"
      ]
     },
     "execution_count": 67,
     "metadata": {},
     "output_type": "execute_result"
    }
   ],
   "source": [
    "req = requests.get(links[0])\n",
    "\n",
    "# response 객체 생성\n",
    "response = TextResponse(req.url, body=req.text, encoding=\"utf-8\")\n",
    "response"
   ]
  },
  {
   "cell_type": "code",
   "execution_count": 46,
   "metadata": {},
   "outputs": [
    {
     "data": {
      "text/plain": [
       "('디케이앤디',\n",
       " '1시간전',\n",
       " 'https://file.irgo.co.kr/data/BOARD/ATTACH_PDF/2DWXTCB2VQRNWWQ9GMD252EBX92SXCH72019123112156.pdf')"
      ]
     },
     "execution_count": 46,
     "metadata": {},
     "output_type": "execute_result"
    }
   ],
   "source": [
    "name = response.xpath('//*[@id=\"content\"]/div[1]/div/dl/dd[1]/a/span[2]/text()')[0].extract()\n",
    "date = response.xpath('//*[@id=\"content\"]/div[1]/div/dl/dd[2]/text()')[0].extract()\n",
    "url = response.xpath('//*[@id=\"content\"]/div[1]/div/dl/dd[3]/a/@href')[0].extract()\n",
    "name, date, url"
   ]
  },
  {
   "cell_type": "code",
   "execution_count": 79,
   "metadata": {},
   "outputs": [],
   "source": [
    "number = response.xpath('//*[@id=\"content\"]/div[1]/div/dl/dd[1]/a/@href')[0].extract()\n",
    "code=\"A\"+str(number[29:35])\n",
    "\"http://comp.fnguide.com/SVO2/ASP/SVD_Main.asp?pGB=1&gicode={}\".format(code)"
   ]
  },
  {
   "cell_type": "code",
   "execution_count": 80,
   "metadata": {},
   "outputs": [
    {
     "data": {
      "text/plain": [
       "'http://comp.fnguide.com/SVO2/ASP/SVD_Main.asp?pGB=1&gicode=A111110'"
      ]
     },
     "execution_count": 80,
     "metadata": {},
     "output_type": "execute_result"
    }
   ],
   "source": [
    "\"http://comp.fnguide.com/SVO2/ASP/SVD_Main.asp?pGB=1&gicode={}\".format(code)"
   ]
  },
  {
   "cell_type": "markdown",
   "metadata": {},
   "source": [
    "### 프로젝트 시작"
   ]
  },
  {
   "cell_type": "code",
   "execution_count": 2,
   "metadata": {},
   "outputs": [
    {
     "name": "stdout",
     "output_type": "stream",
     "text": [
      "New Scrapy project 'ir_crawler', using template directory '/home/ubuntu/.pyenv/versions/3.6.9/envs/python3/lib/python3.6/site-packages/scrapy/templates/project', created in:\r\n",
      "    /home/ubuntu/notebook/project/ir_crawler\r\n",
      "\r\n",
      "You can start your first spider with:\r\n",
      "    cd ir_crawler\r\n",
      "    scrapy genspider example example.com\r\n"
     ]
    }
   ],
   "source": [
    "!rm -rf ir_crawler\n",
    "!scrapy startproject ir_crawler"
   ]
  },
  {
   "cell_type": "code",
   "execution_count": 146,
   "metadata": {},
   "outputs": [
    {
     "name": "stdout",
     "output_type": "stream",
     "text": [
      "\u001b[01;34mir_crawler\u001b[00m\r\n",
      "├── IRCrawler.csv\r\n",
      "├── \u001b[01;34mir_crawler\u001b[00m\r\n",
      "│   ├── __init__.py\r\n",
      "│   ├── \u001b[01;34m__pycache__\u001b[00m\r\n",
      "│   │   ├── __init__.cpython-36.pyc\r\n",
      "│   │   ├── items.cpython-36.pyc\r\n",
      "│   │   ├── pipelines.cpython-36.pyc\r\n",
      "│   │   └── settings.cpython-36.pyc\r\n",
      "│   ├── items.py\r\n",
      "│   ├── middlewares.py\r\n",
      "│   ├── mongodb.py\r\n",
      "│   ├── pipelines.py\r\n",
      "│   ├── settings.py\r\n",
      "│   └── \u001b[01;34mspiders\u001b[00m\r\n",
      "│       ├── __init__.py\r\n",
      "│       ├── \u001b[01;34m__pycache__\u001b[00m\r\n",
      "│       │   ├── __init__.cpython-36.pyc\r\n",
      "│       │   └── spider.cpython-36.pyc\r\n",
      "│       └── spider.py\r\n",
      "└── scrapy.cfg\r\n",
      "\r\n",
      "4 directories, 16 files\r\n"
     ]
    }
   ],
   "source": [
    "!tree ir_crawler"
   ]
  },
  {
   "cell_type": "markdown",
   "metadata": {},
   "source": [
    "#### items.py 작성"
   ]
  },
  {
   "cell_type": "code",
   "execution_count": 49,
   "metadata": {},
   "outputs": [
    {
     "name": "stdout",
     "output_type": "stream",
     "text": [
      "Overwriting ir_crawler/ir_crawler/items.py\n"
     ]
    }
   ],
   "source": [
    "%%writefile ir_crawler/ir_crawler/items.py\n",
    "import scrapy\n",
    "\n",
    "class CrawlerItem(scrapy.Item):\n",
    "    name = scrapy.Field()\n",
    "    date = scrapy.Field()\n",
    "    ir_link = scrapy.Field()\n",
    "    fs_link = scrapy.Field()"
   ]
  },
  {
   "cell_type": "markdown",
   "metadata": {},
   "source": [
    "#### spiders.py 작성"
   ]
  },
  {
   "cell_type": "code",
   "execution_count": 79,
   "metadata": {},
   "outputs": [
    {
     "name": "stdout",
     "output_type": "stream",
     "text": [
      "Overwriting ir_crawler/ir_crawler/spiders/spider.py\n"
     ]
    }
   ],
   "source": [
    "%%writefile ir_crawler/ir_crawler/spiders/spider.py\n",
    "import datetime\n",
    "import scrapy\n",
    "from ir_crawler.items import CrawlerItem\n",
    "\n",
    "class Spider(scrapy.Spider):\n",
    "    name = \"IRCrawler\"\n",
    "    allow_domain = [\"https://m.irgo.co.kr/\"]\n",
    "    start_urls = [\"https://m.irgo.co.kr/IR%EC%9E%90%EB%A3%8C\"]\n",
    "    \n",
    "    def parse(self, response):\n",
    "        date = response.xpath('//*[@id=\"irDataList\"]/div/div[2]/span[3]/text()').extract()\n",
    "        urls = response.xpath('//*[@id=\"irDataList\"]/div/@data-href').extract()\n",
    "        links = []\n",
    "        for i in range(len(date)):\n",
    "            if date[i][-3:] == \"1일전\":\n",
    "                links.append(urls[i])\n",
    "        for link in links:\n",
    "            yield scrapy.Request(link, callback=self.page_content)\n",
    "            \n",
    "    def page_content(self, response):\n",
    "        item = CrawlerItem()\n",
    "        item[\"name\"] = response.xpath('//*[@id=\"content\"]/div[1]/div/dl/dd[1]/a/span[2]/text()')[0].extract()\n",
    "        item[\"date\"] = str(datetime.datetime.now())[:10]\n",
    "        try:\n",
    "            item[\"ir_link\"] = response.xpath('//*[@id=\"content\"]/div[1]/div/dl/dd[3]/a/@href')[0].extract()\n",
    "        except:\n",
    "            item[\"ir_link\"] = response.url\n",
    "        number = response.xpath('//*[@id=\"content\"]/div[1]/div/dl/dd[1]/a/@href')[0].extract()\n",
    "        code= \"A\" + str(number[29:35])\n",
    "        item[\"fs_link\"] = \"http://comp.fnguide.com/SVO2/ASP/SVD_Main.asp?pGB=1&gicode={}\".format(code)\n",
    "        yield item"
   ]
  },
  {
   "cell_type": "markdown",
   "metadata": {},
   "source": [
    "#### run.sh 작성 (csv 파일로 저장)"
   ]
  },
  {
   "cell_type": "code",
   "execution_count": 80,
   "metadata": {},
   "outputs": [
    {
     "name": "stdout",
     "output_type": "stream",
     "text": [
      "Overwriting run.sh\n"
     ]
    }
   ],
   "source": [
    "%%writefile run.sh\n",
    "cd ir_crawler\n",
    "scrapy crawl IRCrawler -o IRCrawler.csv"
   ]
  },
  {
   "cell_type": "code",
   "execution_count": 81,
   "metadata": {},
   "outputs": [],
   "source": [
    "!chmod +x run.sh"
   ]
  },
  {
   "cell_type": "code",
   "execution_count": 82,
   "metadata": {},
   "outputs": [
    {
     "name": "stdout",
     "output_type": "stream",
     "text": [
      "2019-12-04 03:43:36 [scrapy.utils.log] INFO: Scrapy 1.8.0 started (bot: ir_crawler)\n",
      "2019-12-04 03:43:36 [scrapy.utils.log] INFO: Versions: lxml 4.4.1.0, libxml2 2.9.9, cssselect 1.1.0, parsel 1.5.2, w3lib 1.21.0, Twisted 19.10.0, Python 3.6.9 (default, Oct 24 2019, 05:41:31) - [GCC 7.4.0], pyOpenSSL 19.1.0 (OpenSSL 1.1.1d  10 Sep 2019), cryptography 2.8, Platform Linux-4.15.0-1051-aws-x86_64-with-debian-buster-sid\n",
      "2019-12-04 03:43:36 [scrapy.crawler] INFO: Overridden settings: {'BOT_NAME': 'ir_crawler', 'FEED_FORMAT': 'csv', 'FEED_URI': 'IRCrawler.csv', 'NEWSPIDER_MODULE': 'ir_crawler.spiders', 'ROBOTSTXT_OBEY': True, 'SPIDER_MODULES': ['ir_crawler.spiders']}\n",
      "2019-12-04 03:43:36 [scrapy.extensions.telnet] INFO: Telnet Password: 6e9cf7192d0de43b\n",
      "2019-12-04 03:43:36 [scrapy.middleware] INFO: Enabled extensions:\n",
      "['scrapy.extensions.corestats.CoreStats',\n",
      " 'scrapy.extensions.telnet.TelnetConsole',\n",
      " 'scrapy.extensions.memusage.MemoryUsage',\n",
      " 'scrapy.extensions.feedexport.FeedExporter',\n",
      " 'scrapy.extensions.logstats.LogStats']\n",
      "2019-12-04 03:43:36 [scrapy.middleware] INFO: Enabled downloader middlewares:\n",
      "['scrapy.downloadermiddlewares.robotstxt.RobotsTxtMiddleware',\n",
      " 'scrapy.downloadermiddlewares.httpauth.HttpAuthMiddleware',\n",
      " 'scrapy.downloadermiddlewares.downloadtimeout.DownloadTimeoutMiddleware',\n",
      " 'scrapy.downloadermiddlewares.defaultheaders.DefaultHeadersMiddleware',\n",
      " 'scrapy.downloadermiddlewares.useragent.UserAgentMiddleware',\n",
      " 'scrapy.downloadermiddlewares.retry.RetryMiddleware',\n",
      " 'scrapy.downloadermiddlewares.redirect.MetaRefreshMiddleware',\n",
      " 'scrapy.downloadermiddlewares.httpcompression.HttpCompressionMiddleware',\n",
      " 'scrapy.downloadermiddlewares.redirect.RedirectMiddleware',\n",
      " 'scrapy.downloadermiddlewares.cookies.CookiesMiddleware',\n",
      " 'scrapy.downloadermiddlewares.httpproxy.HttpProxyMiddleware',\n",
      " 'scrapy.downloadermiddlewares.stats.DownloaderStats']\n",
      "2019-12-04 03:43:36 [scrapy.middleware] INFO: Enabled spider middlewares:\n",
      "['scrapy.spidermiddlewares.httperror.HttpErrorMiddleware',\n",
      " 'scrapy.spidermiddlewares.offsite.OffsiteMiddleware',\n",
      " 'scrapy.spidermiddlewares.referer.RefererMiddleware',\n",
      " 'scrapy.spidermiddlewares.urllength.UrlLengthMiddleware',\n",
      " 'scrapy.spidermiddlewares.depth.DepthMiddleware']\n",
      "2019-12-04 03:43:36 [scrapy.middleware] INFO: Enabled item pipelines:\n",
      "[]\n",
      "2019-12-04 03:43:36 [scrapy.core.engine] INFO: Spider opened\n",
      "2019-12-04 03:43:36 [scrapy.extensions.logstats] INFO: Crawled 0 pages (at 0 pages/min), scraped 0 items (at 0 items/min)\n",
      "2019-12-04 03:43:36 [scrapy.extensions.telnet] INFO: Telnet console listening on 127.0.0.1:6023\n",
      "2019-12-04 03:43:36 [scrapy.core.engine] DEBUG: Crawled (200) <GET https://m.irgo.co.kr/robots.txt> (referer: None)\n",
      "2019-12-04 03:43:37 [scrapy.core.engine] DEBUG: Crawled (200) <GET https://m.irgo.co.kr/IR%EC%9E%90%EB%A3%8C> (referer: None)\n",
      "2019-12-04 03:43:37 [scrapy.core.engine] DEBUG: Crawled (200) <GET https://m.irgo.co.kr/IR%EC%9E%90%EB%A3%8C/28183/TB/%EC%BD%94%EC%8A%A4%EB%A7%A5%EC%8A%A4-%EC%BD%94%EC%8A%A4%EB%A7%A5%EC%8A%A4-%EC%A0%9C-8%ED%9A%8C-IBKS-CONSUMER-DAY-%EC%B0%B8%EA%B0%80%EA%B5%AD%EB%82%B4> (referer: https://m.irgo.co.kr/IR%EC%9E%90%EB%A3%8C)\n",
      "2019-12-04 03:43:37 [scrapy.core.scraper] DEBUG: Scraped from <200 https://m.irgo.co.kr/IR%EC%9E%90%EB%A3%8C/28183/TB/%EC%BD%94%EC%8A%A4%EB%A7%A5%EC%8A%A4-%EC%BD%94%EC%8A%A4%EB%A7%A5%EC%8A%A4-%EC%A0%9C-8%ED%9A%8C-IBKS-CONSUMER-DAY-%EC%B0%B8%EA%B0%80%EA%B5%AD%EB%82%B4>\n",
      "{'date': '2019-12-04',\n",
      " 'fs_link': 'http://comp.fnguide.com/SVO2/ASP/SVD_Main.asp?pGB=1&gicode=A192820',\n",
      " 'ir_link': 'https://file.irgo.co.kr/data/BOARD/ATTACH_PDF/GUYN3GAWC5SCCCRYY3FRMFG26D2NP2XU201912385059.pdf',\n",
      " 'name': '코스맥스'}\n",
      "2019-12-04 03:43:37 [scrapy.core.engine] DEBUG: Crawled (200) <GET https://m.irgo.co.kr/IR%EC%9E%90%EB%A3%8C/28196/TB/%EC%BD%94%EB%A6%AC%EC%95%84%EC%84%BC%ED%84%B0-%EC%BD%94%EB%A6%AC%EC%95%84%EC%84%BC%ED%84%B0-%EC%8B%A0%ED%95%9C-Corporate-Day-%EC%B0%B8%EA%B0%80%EA%B5%AD%EB%82%B4> (referer: https://m.irgo.co.kr/IR%EC%9E%90%EB%A3%8C)\n",
      "2019-12-04 03:43:37 [scrapy.core.scraper] DEBUG: Scraped from <200 https://m.irgo.co.kr/IR%EC%9E%90%EB%A3%8C/28196/TB/%EC%BD%94%EB%A6%AC%EC%95%84%EC%84%BC%ED%84%B0-%EC%BD%94%EB%A6%AC%EC%95%84%EC%84%BC%ED%84%B0-%EC%8B%A0%ED%95%9C-Corporate-Day-%EC%B0%B8%EA%B0%80%EA%B5%AD%EB%82%B4>\n",
      "{'date': '2019-12-04',\n",
      " 'fs_link': 'http://comp.fnguide.com/SVO2/ASP/SVD_Main.asp?pGB=1&gicode=A290510',\n",
      " 'ir_link': 'https://file.irgo.co.kr/data/BOARD/ATTACH_PDF/3XBM2UC9X95BXF4XH6SQ6JUZ6R4Z3MSB2019123104452.pdf',\n",
      " 'name': '코리아센터'}\n",
      "2019-12-04 03:43:38 [scrapy.core.engine] DEBUG: Crawled (200) <GET https://m.irgo.co.kr/IR%EC%9E%90%EB%A3%8C/28187/TB/%EC%9C%A0%EB%8B%88%ED%80%98%EC%8A%A4%ED%8A%B8-%EC%9C%A0%EB%8B%88%ED%80%98%EC%8A%A4%ED%8A%B8-%EC%A3%BC%EC%9A%94-%EC%82%AC%EC%97%85%EB%82%B4%EC%9A%A9-%EB%B0%8F-%EA%B3%84%EC%97%B4%ED%9A%8C%EC%82%AC-%EC%82%AC%EC%97%85%EB%82%B4%EC%9A%A9%EA%B5%AD%EB%82%B4> (referer: https://m.irgo.co.kr/IR%EC%9E%90%EB%A3%8C)\n",
      "2019-12-04 03:43:38 [scrapy.core.scraper] DEBUG: Scraped from <200 https://m.irgo.co.kr/IR%EC%9E%90%EB%A3%8C/28187/TB/%EC%9C%A0%EB%8B%88%ED%80%98%EC%8A%A4%ED%8A%B8-%EC%9C%A0%EB%8B%88%ED%80%98%EC%8A%A4%ED%8A%B8-%EC%A3%BC%EC%9A%94-%EC%82%AC%EC%97%85%EB%82%B4%EC%9A%A9-%EB%B0%8F-%EA%B3%84%EC%97%B4%ED%9A%8C%EC%82%AC-%EC%82%AC%EC%97%85%EB%82%B4%EC%9A%A9%EA%B5%AD%EB%82%B4>\n",
      "{'date': '2019-12-04',\n",
      " 'fs_link': 'http://comp.fnguide.com/SVO2/ASP/SVD_Main.asp?pGB=1&gicode=A077500',\n",
      " 'ir_link': 'https://file.irgo.co.kr/data/BOARD/ATTACH_PDF/9Z2MFAZK5BVB5HUYR8HRCMKZJ7RBG2FF201912391627.pdf',\n",
      " 'name': '유니퀘스트'}\n",
      "2019-12-04 03:43:38 [scrapy.core.engine] DEBUG: Crawled (200) <GET https://m.irgo.co.kr/IR%EC%9E%90%EB%A3%8C/28198/TB/%EB%94%94%EC%BC%80%EC%9D%B4%EC%95%A4%EB%94%94-%EB%94%94%EC%BC%80%EC%9D%B4%EC%95%A4%EB%94%94-2019%EB%85%84-3%EB%B6%84%EA%B8%B0-%EC%8B%A4%EC%A0%81-%EC%84%A4%EB%AA%85%EA%B5%AD%EB%82%B4> (referer: https://m.irgo.co.kr/IR%EC%9E%90%EB%A3%8C)\n",
      "2019-12-04 03:43:38 [scrapy.core.scraper] DEBUG: Scraped from <200 https://m.irgo.co.kr/IR%EC%9E%90%EB%A3%8C/28198/TB/%EB%94%94%EC%BC%80%EC%9D%B4%EC%95%A4%EB%94%94-%EB%94%94%EC%BC%80%EC%9D%B4%EC%95%A4%EB%94%94-2019%EB%85%84-3%EB%B6%84%EA%B8%B0-%EC%8B%A4%EC%A0%81-%EC%84%A4%EB%AA%85%EA%B5%AD%EB%82%B4>\n",
      "{'date': '2019-12-04',\n",
      " 'fs_link': 'http://comp.fnguide.com/SVO2/ASP/SVD_Main.asp?pGB=1&gicode=A263020',\n",
      " 'ir_link': 'https://file.irgo.co.kr/data/BOARD/ATTACH_PDF/2DWXTCB2VQRNWWQ9GMD252EBX92SXCH72019123112156.pdf',\n",
      " 'name': '디케이앤디'}\n",
      "2019-12-04 03:43:38 [scrapy.core.engine] DEBUG: Crawled (200) <GET https://m.irgo.co.kr/IR%EC%9E%90%EB%A3%8C/28186/TB/%EC%9D%B4%EC%8A%A4%ED%8A%B8%EC%86%8C%ED%94%84%ED%8A%B8-%EC%9D%B4%EC%8A%A4%ED%8A%B8%EC%86%8C%ED%94%84%ED%8A%B8-%EC%9E%90%ED%9A%8C%EC%82%AC-%EC%A4%8C%EC%9D%B8%ED%84%B0%EB%84%B7-KB%EC%A6%9D%EA%B6%8C%EA%B3%BC-%EB%A7%9E%EC%86%90-%ED%8F%AC%ED%84%B8-%EC%82%AC%EC%97%85-%EB%84%98%EC%96%B4-%ED%85%8C%ED%81%AC%ED%95%80-%EA%B8%B0%EC%97%85%EC%9C%BC%EB%A1%9C-%EC%A0%84%ED%99%98-%EC%8B%9C%EB%8F%99> (referer: https://m.irgo.co.kr/IR%EC%9E%90%EB%A3%8C)\n",
      "2019-12-04 03:43:38 [scrapy.core.scraper] DEBUG: Scraped from <200 https://m.irgo.co.kr/IR%EC%9E%90%EB%A3%8C/28186/TB/%EC%9D%B4%EC%8A%A4%ED%8A%B8%EC%86%8C%ED%94%84%ED%8A%B8-%EC%9D%B4%EC%8A%A4%ED%8A%B8%EC%86%8C%ED%94%84%ED%8A%B8-%EC%9E%90%ED%9A%8C%EC%82%AC-%EC%A4%8C%EC%9D%B8%ED%84%B0%EB%84%B7-KB%EC%A6%9D%EA%B6%8C%EA%B3%BC-%EB%A7%9E%EC%86%90-%ED%8F%AC%ED%84%B8-%EC%82%AC%EC%97%85-%EB%84%98%EC%96%B4-%ED%85%8C%ED%81%AC%ED%95%80-%EA%B8%B0%EC%97%85%EC%9C%BC%EB%A1%9C-%EC%A0%84%ED%99%98-%EC%8B%9C%EB%8F%99>\n",
      "{'date': '2019-12-04',\n",
      " 'fs_link': 'http://comp.fnguide.com/SVO2/ASP/SVD_Main.asp?pGB=1&gicode=A047560',\n",
      " 'ir_link': 'https://m.irgo.co.kr/IR%EC%9E%90%EB%A3%8C/28186/TB/%EC%9D%B4%EC%8A%A4%ED%8A%B8%EC%86%8C%ED%94%84%ED%8A%B8-%EC%9D%B4%EC%8A%A4%ED%8A%B8%EC%86%8C%ED%94%84%ED%8A%B8-%EC%9E%90%ED%9A%8C%EC%82%AC-%EC%A4%8C%EC%9D%B8%ED%84%B0%EB%84%B7-KB%EC%A6%9D%EA%B6%8C%EA%B3%BC-%EB%A7%9E%EC%86%90-%ED%8F%AC%ED%84%B8-%EC%82%AC%EC%97%85-%EB%84%98%EC%96%B4-%ED%85%8C%ED%81%AC%ED%95%80-%EA%B8%B0%EC%97%85%EC%9C%BC%EB%A1%9C-%EC%A0%84%ED%99%98-%EC%8B%9C%EB%8F%99',\n",
      " 'name': '이스트소프트'}\n",
      "2019-12-04 03:43:38 [scrapy.core.engine] DEBUG: Crawled (200) <GET https://m.irgo.co.kr/IR%EC%9E%90%EB%A3%8C/28185/TB/%ED%95%9C%EC%84%B8%EC%98%88%EC%8A%A424%ED%99%80%EB%94%A9%EC%8A%A4-%ED%95%9C%EC%84%B8%EC%98%88%EC%8A%A424%ED%99%80%EB%94%A9%EC%8A%A4-%EC%8B%A0%EC%98%81%EC%A6%9D%EA%B6%8C-2019%EB%85%84-%ED%95%98%EB%B0%98%EA%B8%B0-Corporate-Day-%EC%B0%B8%EA%B0%80%EA%B5%AD%EB%82%B4> (referer: https://m.irgo.co.kr/IR%EC%9E%90%EB%A3%8C)\n"
     ]
    },
    {
     "name": "stdout",
     "output_type": "stream",
     "text": [
      "2019-12-04 03:43:39 [scrapy.core.scraper] DEBUG: Scraped from <200 https://m.irgo.co.kr/IR%EC%9E%90%EB%A3%8C/28185/TB/%ED%95%9C%EC%84%B8%EC%98%88%EC%8A%A424%ED%99%80%EB%94%A9%EC%8A%A4-%ED%95%9C%EC%84%B8%EC%98%88%EC%8A%A424%ED%99%80%EB%94%A9%EC%8A%A4-%EC%8B%A0%EC%98%81%EC%A6%9D%EA%B6%8C-2019%EB%85%84-%ED%95%98%EB%B0%98%EA%B8%B0-Corporate-Day-%EC%B0%B8%EA%B0%80%EA%B5%AD%EB%82%B4>\n",
      "{'date': '2019-12-04',\n",
      " 'fs_link': 'http://comp.fnguide.com/SVO2/ASP/SVD_Main.asp?pGB=1&gicode=A016450',\n",
      " 'ir_link': 'https://file.irgo.co.kr/data/BOARD/ATTACH_PDF/RJA2TFQSMV4RM43C7TS5U7TEXBFHSPZG20191239447.pdf',\n",
      " 'name': '한세예스24홀딩스'}\n",
      "2019-12-04 03:43:39 [scrapy.core.engine] DEBUG: Crawled (200) <GET https://m.irgo.co.kr/IR%EC%9E%90%EB%A3%8C/28188/TB/%EB%A1%AF%EB%8D%B0%EC%A7%80%EC%A3%BC-%EB%A1%AF%EB%8D%B0%EC%A7%80%EC%A3%BC-%EA%B5%AD%EB%82%B4-%EC%9E%90%EC%82%B0%EC%9A%B4%EC%9A%A9-CIO%EC%A1%B0%EC%B0%AC-%EA%B0%84%EB%8B%B4%ED%9A%8C%EA%B5%AD%EB%82%B4> (referer: https://m.irgo.co.kr/IR%EC%9E%90%EB%A3%8C)\n",
      "2019-12-04 03:43:39 [scrapy.core.scraper] DEBUG: Scraped from <200 https://m.irgo.co.kr/IR%EC%9E%90%EB%A3%8C/28188/TB/%EB%A1%AF%EB%8D%B0%EC%A7%80%EC%A3%BC-%EB%A1%AF%EB%8D%B0%EC%A7%80%EC%A3%BC-%EA%B5%AD%EB%82%B4-%EC%9E%90%EC%82%B0%EC%9A%B4%EC%9A%A9-CIO%EC%A1%B0%EC%B0%AC-%EA%B0%84%EB%8B%B4%ED%9A%8C%EA%B5%AD%EB%82%B4>\n",
      "{'date': '2019-12-04',\n",
      " 'fs_link': 'http://comp.fnguide.com/SVO2/ASP/SVD_Main.asp?pGB=1&gicode=A004990',\n",
      " 'ir_link': 'https://file.irgo.co.kr/data/BOARD/ATTACH_PDF/PQ4S42SAH2WGJ9V45YJVSCM67WH28BDG201912393840.pdf',\n",
      " 'name': '롯데지주'}\n",
      "2019-12-04 03:43:39 [scrapy.core.engine] DEBUG: Crawled (200) <GET https://m.irgo.co.kr/IR%EC%9E%90%EB%A3%8C/28181/TB/%EC%8B%A0%EC%84%B1%EC%9D%B4%EC%97%94%EC%A7%80-%EC%9D%B4%EC%A0%A0-%EA%B3%B5%EA%B8%B0%EC%B2%AD%EC%A0%95%EA%B8%B0%EB%8F%84-%EB%B9%8C%ED%8A%B8%EC%9D%B8-%EC%8B%9C%EB%8C%80-B2C%EA%B9%8C%EC%A7%80-%EC%82%AC%EC%97%85-%EC%98%81%EC%97%AD%EC%9D%84-%ED%99%95%EC%9E%A5%ED%95%9C-%EC%8B%A0%EC%84%B1%EC%9D%B4%EC%97%94%EC%A7%80> (referer: https://m.irgo.co.kr/IR%EC%9E%90%EB%A3%8C)\n",
      "2019-12-04 03:43:39 [scrapy.core.scraper] DEBUG: Scraped from <200 https://m.irgo.co.kr/IR%EC%9E%90%EB%A3%8C/28181/TB/%EC%8B%A0%EC%84%B1%EC%9D%B4%EC%97%94%EC%A7%80-%EC%9D%B4%EC%A0%A0-%EA%B3%B5%EA%B8%B0%EC%B2%AD%EC%A0%95%EA%B8%B0%EB%8F%84-%EB%B9%8C%ED%8A%B8%EC%9D%B8-%EC%8B%9C%EB%8C%80-B2C%EA%B9%8C%EC%A7%80-%EC%82%AC%EC%97%85-%EC%98%81%EC%97%AD%EC%9D%84-%ED%99%95%EC%9E%A5%ED%95%9C-%EC%8B%A0%EC%84%B1%EC%9D%B4%EC%97%94%EC%A7%80>\n",
      "{'date': '2019-12-04',\n",
      " 'fs_link': 'http://comp.fnguide.com/SVO2/ASP/SVD_Main.asp?pGB=1&gicode=A011930',\n",
      " 'ir_link': 'https://m.irgo.co.kr/IR%EC%9E%90%EB%A3%8C/28181/TB/%EC%8B%A0%EC%84%B1%EC%9D%B4%EC%97%94%EC%A7%80-%EC%9D%B4%EC%A0%A0-%EA%B3%B5%EA%B8%B0%EC%B2%AD%EC%A0%95%EA%B8%B0%EB%8F%84-%EB%B9%8C%ED%8A%B8%EC%9D%B8-%EC%8B%9C%EB%8C%80-B2C%EA%B9%8C%EC%A7%80-%EC%82%AC%EC%97%85-%EC%98%81%EC%97%AD%EC%9D%84-%ED%99%95%EC%9E%A5%ED%95%9C-%EC%8B%A0%EC%84%B1%EC%9D%B4%EC%97%94%EC%A7%80',\n",
      " 'name': '신성이엔지'}\n",
      "2019-12-04 03:43:39 [scrapy.core.engine] DEBUG: Crawled (200) <GET https://m.irgo.co.kr/IR%EC%9E%90%EB%A3%8C/28200/TB/%EB%B8%8C%EB%A0%88%EC%9D%B8%EC%BD%98%ED%85%90%EC%B8%A0-%EB%B8%8C%EB%A0%88%EC%9D%B8%EC%BD%98%ED%85%90%EC%B8%A0-%ED%9A%8C%EC%82%AC%ED%98%84%ED%99%A9-%EB%B0%8F-%EC%A3%BC%EC%9A%94-%EA%B2%BD%EC%98%81%ED%98%84%ED%99%A9-%EC%84%A4%EB%AA%85%EA%B5%AD%EB%82%B4> (referer: https://m.irgo.co.kr/IR%EC%9E%90%EB%A3%8C)\n",
      "2019-12-04 03:43:39 [scrapy.core.scraper] DEBUG: Scraped from <200 https://m.irgo.co.kr/IR%EC%9E%90%EB%A3%8C/28200/TB/%EB%B8%8C%EB%A0%88%EC%9D%B8%EC%BD%98%ED%85%90%EC%B8%A0-%EB%B8%8C%EB%A0%88%EC%9D%B8%EC%BD%98%ED%85%90%EC%B8%A0-%ED%9A%8C%EC%82%AC%ED%98%84%ED%99%A9-%EB%B0%8F-%EC%A3%BC%EC%9A%94-%EA%B2%BD%EC%98%81%ED%98%84%ED%99%A9-%EC%84%A4%EB%AA%85%EA%B5%AD%EB%82%B4>\n",
      "{'date': '2019-12-04',\n",
      " 'fs_link': 'http://comp.fnguide.com/SVO2/ASP/SVD_Main.asp?pGB=1&gicode=A066980',\n",
      " 'ir_link': 'https://file.irgo.co.kr/data/BOARD/ATTACH_PDF/8V4AQGBS47XZ4DWNP4KEBHNQUD3HJ6AD2019123141913.pdf',\n",
      " 'name': '브레인콘텐츠'}\n",
      "2019-12-04 03:43:40 [scrapy.core.engine] DEBUG: Crawled (200) <GET https://m.irgo.co.kr/IR%EC%9E%90%EB%A3%8C/28194/TB/%ED%98%84%EB%8C%80%EC%A0%9C%EC%B2%A0-%ED%98%84%EB%8C%80%EC%A0%9C%EC%B2%A0-2019-APAC-Resources-Conference-%EC%B0%B8%EC%84%9D%EC%A4%91%EA%B5%AD> (referer: https://m.irgo.co.kr/IR%EC%9E%90%EB%A3%8C)\n",
      "2019-12-04 03:43:40 [scrapy.core.scraper] DEBUG: Scraped from <200 https://m.irgo.co.kr/IR%EC%9E%90%EB%A3%8C/28194/TB/%ED%98%84%EB%8C%80%EC%A0%9C%EC%B2%A0-%ED%98%84%EB%8C%80%EC%A0%9C%EC%B2%A0-2019-APAC-Resources-Conference-%EC%B0%B8%EC%84%9D%EC%A4%91%EA%B5%AD>\n",
      "{'date': '2019-12-04',\n",
      " 'fs_link': 'http://comp.fnguide.com/SVO2/ASP/SVD_Main.asp?pGB=1&gicode=A004020',\n",
      " 'ir_link': 'https://file.irgo.co.kr/data/BOARD/ATTACH_PDF/WH3REBXESUWFS2V4DRJUZ6M5J8P6UFUH201912395254.pdf',\n",
      " 'name': '현대제철'}\n",
      "2019-12-04 03:43:40 [scrapy.core.engine] DEBUG: Crawled (200) <GET https://m.irgo.co.kr/IR%EC%9E%90%EB%A3%8C/28201/TB/%EC%BD%94%EC%8A%A4%EB%A7%A5%EC%8A%A4-%EC%BD%94%EC%8A%A4%EB%A7%A5%EC%8A%A4-%EC%8B%A0%EC%98%81-2019-%ED%95%98%EB%B0%98%EA%B8%B0-CORPORATE-DAY-%EC%B0%B8%EA%B0%80%EA%B5%AD%EB%82%B4> (referer: https://m.irgo.co.kr/IR%EC%9E%90%EB%A3%8C)\n",
      "2019-12-04 03:43:40 [scrapy.core.scraper] DEBUG: Scraped from <200 https://m.irgo.co.kr/IR%EC%9E%90%EB%A3%8C/28201/TB/%EC%BD%94%EC%8A%A4%EB%A7%A5%EC%8A%A4-%EC%BD%94%EC%8A%A4%EB%A7%A5%EC%8A%A4-%EC%8B%A0%EC%98%81-2019-%ED%95%98%EB%B0%98%EA%B8%B0-CORPORATE-DAY-%EC%B0%B8%EA%B0%80%EA%B5%AD%EB%82%B4>\n",
      "{'date': '2019-12-04',\n",
      " 'fs_link': 'http://comp.fnguide.com/SVO2/ASP/SVD_Main.asp?pGB=1&gicode=A192820',\n",
      " 'ir_link': 'https://file.irgo.co.kr/data/BOARD/ATTACH_PDF/YFYVFTQGUSTKUYS8EPFZ34GAKQF8KCUC2019123143033.pdf',\n",
      " 'name': '코스맥스'}\n",
      "2019-12-04 03:43:40 [scrapy.core.engine] DEBUG: Crawled (200) <GET https://m.irgo.co.kr/IR%EC%9E%90%EB%A3%8C/28195/TB/%ED%98%B8%EC%A0%84%EC%8B%A4%EC%97%85-%ED%98%B8%EC%A0%84%EC%8B%A4%EC%97%85-%EC%8B%A0%EC%98%81-2019-%ED%95%98%EB%B0%98%EA%B8%B0-Corporate-day-%EC%B0%B8%EA%B0%80%EA%B5%AD%EB%82%B4> (referer: https://m.irgo.co.kr/IR%EC%9E%90%EB%A3%8C)\n",
      "2019-12-04 03:43:40 [scrapy.core.scraper] DEBUG: Scraped from <200 https://m.irgo.co.kr/IR%EC%9E%90%EB%A3%8C/28195/TB/%ED%98%B8%EC%A0%84%EC%8B%A4%EC%97%85-%ED%98%B8%EC%A0%84%EC%8B%A4%EC%97%85-%EC%8B%A0%EC%98%81-2019-%ED%95%98%EB%B0%98%EA%B8%B0-Corporate-day-%EC%B0%B8%EA%B0%80%EA%B5%AD%EB%82%B4>\n",
      "{'date': '2019-12-04',\n",
      " 'fs_link': 'http://comp.fnguide.com/SVO2/ASP/SVD_Main.asp?pGB=1&gicode=A111110',\n",
      " 'ir_link': 'https://file.irgo.co.kr/data/BOARD/ATTACH_PDF/GFDFC4SJBS76CY6TXPUKK4WVGZHAMTV42019123103856.pdf',\n",
      " 'name': '호전실업'}\n",
      "2019-12-04 03:43:40 [scrapy.core.engine] DEBUG: Crawled (200) <GET https://m.irgo.co.kr/IR%EC%9E%90%EB%A3%8C/28199/TB/%ED%98%84%EB%8C%80%EB%AA%A8%EB%B9%84%EC%8A%A4-%ED%98%84%EB%8C%80%EB%AA%A8%EB%B9%84%EC%8A%A4-Shinhan-Super-Corporate-Day-%EC%B0%B8%EC%84%9D%EA%B5%AD%EB%82%B4> (referer: https://m.irgo.co.kr/IR%EC%9E%90%EB%A3%8C)\n",
      "2019-12-04 03:43:40 [scrapy.core.engine] DEBUG: Crawled (200) <GET https://m.irgo.co.kr/IR%EC%9E%90%EB%A3%8C/28179/TB/IRGO-%EC%A3%BC%EB%8B%B4%ED%86%A1%ED%86%A1%EC%95%84%EC%9D%B4%EC%97%90%EC%8A%A4%EB%8F%99%EC%84%9C-IR%EB%8B%B4%EB%8B%B9%EC%9E%90%EA%B0%80-%EC%A7%81%EC%A0%91-%EC%A0%84%ED%95%98%EB%8A%94-%EA%B8%B0%EC%97%85-%EC%9D%B4%EC%95%BC%EA%B8%B0> (referer: https://m.irgo.co.kr/IR%EC%9E%90%EB%A3%8C)\n",
      "2019-12-04 03:43:41 [scrapy.core.scraper] DEBUG: Scraped from <200 https://m.irgo.co.kr/IR%EC%9E%90%EB%A3%8C/28199/TB/%ED%98%84%EB%8C%80%EB%AA%A8%EB%B9%84%EC%8A%A4-%ED%98%84%EB%8C%80%EB%AA%A8%EB%B9%84%EC%8A%A4-Shinhan-Super-Corporate-Day-%EC%B0%B8%EC%84%9D%EA%B5%AD%EB%82%B4>\n",
      "{'date': '2019-12-04',\n",
      " 'fs_link': 'http://comp.fnguide.com/SVO2/ASP/SVD_Main.asp?pGB=1&gicode=A012330',\n",
      " 'ir_link': 'https://file.irgo.co.kr/data/BOARD/ATTACH_PDF/QKHCTMSWJWC3K5BP6UZFT82RXHHNJRN32019123133916.pdf',\n",
      " 'name': '현대모비스'}\n",
      "2019-12-04 03:43:41 [scrapy.core.scraper] ERROR: Spider error processing <GET https://m.irgo.co.kr/IR%EC%9E%90%EB%A3%8C/28179/TB/IRGO-%EC%A3%BC%EB%8B%B4%ED%86%A1%ED%86%A1%EC%95%84%EC%9D%B4%EC%97%90%EC%8A%A4%EB%8F%99%EC%84%9C-IR%EB%8B%B4%EB%8B%B9%EC%9E%90%EA%B0%80-%EC%A7%81%EC%A0%91-%EC%A0%84%ED%95%98%EB%8A%94-%EA%B8%B0%EC%97%85-%EC%9D%B4%EC%95%BC%EA%B8%B0> (referer: https://m.irgo.co.kr/IR%EC%9E%90%EB%A3%8C)\n",
      "Traceback (most recent call last):\n",
      "  File \"/home/ubuntu/.pyenv/versions/3.6.9/envs/python3/lib/python3.6/site-packages/scrapy/utils/defer.py\", line 102, in iter_errback\n",
      "    yield next(it)\n",
      "  File \"/home/ubuntu/.pyenv/versions/3.6.9/envs/python3/lib/python3.6/site-packages/scrapy/core/spidermw.py\", line 84, in evaluate_iterable\n",
      "    for r in iterable:\n",
      "  File \"/home/ubuntu/.pyenv/versions/3.6.9/envs/python3/lib/python3.6/site-packages/scrapy/spidermiddlewares/offsite.py\", line 29, in process_spider_output\n",
      "    for x in result:\n",
      "  File \"/home/ubuntu/.pyenv/versions/3.6.9/envs/python3/lib/python3.6/site-packages/scrapy/core/spidermw.py\", line 84, in evaluate_iterable\n",
      "    for r in iterable:\n",
      "  File \"/home/ubuntu/.pyenv/versions/3.6.9/envs/python3/lib/python3.6/site-packages/scrapy/spidermiddlewares/referer.py\", line 339, in <genexpr>\n",
      "    return (_set_referer(r) for r in result or ())\n",
      "  File \"/home/ubuntu/.pyenv/versions/3.6.9/envs/python3/lib/python3.6/site-packages/scrapy/core/spidermw.py\", line 84, in evaluate_iterable\n",
      "    for r in iterable:\n",
      "  File \"/home/ubuntu/.pyenv/versions/3.6.9/envs/python3/lib/python3.6/site-packages/scrapy/spidermiddlewares/urllength.py\", line 37, in <genexpr>\n",
      "    return (r for r in result or () if _filter(r))\n",
      "  File \"/home/ubuntu/.pyenv/versions/3.6.9/envs/python3/lib/python3.6/site-packages/scrapy/core/spidermw.py\", line 84, in evaluate_iterable\n",
      "    for r in iterable:\n",
      "  File \"/home/ubuntu/.pyenv/versions/3.6.9/envs/python3/lib/python3.6/site-packages/scrapy/spidermiddlewares/depth.py\", line 58, in <genexpr>\n",
      "    return (r for r in result or () if _filter(r))\n",
      "  File \"/home/ubuntu/notebook/project/ir_crawler/ir_crawler/spiders/spider.py\", line 22, in page_content\n",
      "    item[\"name\"] = response.xpath('//*[@id=\"content\"]/div[1]/div/dl/dd[1]/a/span[2]/text()')[0].extract()\n",
      "  File \"/home/ubuntu/.pyenv/versions/3.6.9/envs/python3/lib/python3.6/site-packages/parsel/selector.py\", line 61, in __getitem__\n",
      "    o = super(SelectorList, self).__getitem__(pos)\n",
      "IndexError: list index out of range\n"
     ]
    },
    {
     "name": "stdout",
     "output_type": "stream",
     "text": [
      "2019-12-04 03:43:41 [scrapy.core.engine] DEBUG: Crawled (200) <GET https://m.irgo.co.kr/IR%EC%9E%90%EB%A3%8C/28202/TB/%EC%BD%94%EC%8A%A4%EB%A7%A5%EC%8A%A4%EB%B9%84%ED%8B%B0%EC%95%84%EC%9D%B4-%EC%BD%94%EC%8A%A4%EB%A7%A5%EC%8A%A4%EB%B9%84%ED%8B%B0%EC%95%84%EC%9D%B4-%EC%8B%A0%EC%98%81-2019-%ED%95%98%EB%B0%98%EA%B8%B0-CORPORATE-DAY-%EC%B0%B8%EA%B0%80%EA%B5%AD%EB%82%B4> (referer: https://m.irgo.co.kr/IR%EC%9E%90%EB%A3%8C)\n",
      "2019-12-04 03:43:41 [scrapy.core.scraper] DEBUG: Scraped from <200 https://m.irgo.co.kr/IR%EC%9E%90%EB%A3%8C/28202/TB/%EC%BD%94%EC%8A%A4%EB%A7%A5%EC%8A%A4%EB%B9%84%ED%8B%B0%EC%95%84%EC%9D%B4-%EC%BD%94%EC%8A%A4%EB%A7%A5%EC%8A%A4%EB%B9%84%ED%8B%B0%EC%95%84%EC%9D%B4-%EC%8B%A0%EC%98%81-2019-%ED%95%98%EB%B0%98%EA%B8%B0-CORPORATE-DAY-%EC%B0%B8%EA%B0%80%EA%B5%AD%EB%82%B4>\n",
      "{'date': '2019-12-04',\n",
      " 'fs_link': 'http://comp.fnguide.com/SVO2/ASP/SVD_Main.asp?pGB=1&gicode=A044820',\n",
      " 'ir_link': 'https://file.irgo.co.kr/data/BOARD/ATTACH_PDF/9MDWH49N5X8M5579QUV2C9WBNZZDSTDY2019123143455.pdf',\n",
      " 'name': '코스맥스비티아이'}\n",
      "2019-12-04 03:43:41 [scrapy.core.engine] DEBUG: Crawled (200) <GET https://m.irgo.co.kr/IR%EC%9E%90%EB%A3%8C/28184/TB/%EC%BD%94%EC%8A%A4%EB%A7%A5%EC%8A%A4%EB%B9%84%ED%8B%B0%EC%95%84%EC%9D%B4-%EC%BD%94%EC%8A%A4%EB%A7%A5%EC%8A%A4%EB%B9%84%ED%8B%B0%EC%95%84%EC%9D%B4-%EC%A0%9C-8%ED%9A%8C-IBKS-CONSUMER-DAY-%EC%B0%B8%EA%B0%80%EA%B5%AD%EB%82%B4> (referer: https://m.irgo.co.kr/IR%EC%9E%90%EB%A3%8C)\n",
      "2019-12-04 03:43:41 [scrapy.core.scraper] DEBUG: Scraped from <200 https://m.irgo.co.kr/IR%EC%9E%90%EB%A3%8C/28184/TB/%EC%BD%94%EC%8A%A4%EB%A7%A5%EC%8A%A4%EB%B9%84%ED%8B%B0%EC%95%84%EC%9D%B4-%EC%BD%94%EC%8A%A4%EB%A7%A5%EC%8A%A4%EB%B9%84%ED%8B%B0%EC%95%84%EC%9D%B4-%EC%A0%9C-8%ED%9A%8C-IBKS-CONSUMER-DAY-%EC%B0%B8%EA%B0%80%EA%B5%AD%EB%82%B4>\n",
      "{'date': '2019-12-04',\n",
      " 'fs_link': 'http://comp.fnguide.com/SVO2/ASP/SVD_Main.asp?pGB=1&gicode=A044820',\n",
      " 'ir_link': 'https://file.irgo.co.kr/data/BOARD/ATTACH_PDF/3DMU4BV5XQEJXWD7HM3X6Z5887MUGAWH201912385548.pdf',\n",
      " 'name': '코스맥스비티아이'}\n",
      "2019-12-04 03:43:41 [scrapy.core.engine] DEBUG: Crawled (200) <GET https://m.irgo.co.kr/IR%EC%9E%90%EB%A3%8C/28197/TB/BNK%EA%B8%88%EC%9C%B5%EC%A7%80%EC%A3%BC-BNK%EA%B8%88%EC%9C%B5%EC%A7%80%EC%A3%BC-2019%EB%85%84-3%EB%B6%84%EA%B8%B0-%EA%B2%BD%EC%98%81%EC%8B%A4%EC%A0%81-%EB%B0%8F-%EC%A3%BC%EC%9A%94-%EA%B4%80%EC%8B%AC%EC%82%AC%ED%95%AD%EC%8B%B1%EA%B0%80%ED%8F%AC%EB%A5%B4-%ED%99%8D%EC%BD%A9> (referer: https://m.irgo.co.kr/IR%EC%9E%90%EB%A3%8C)\n",
      "2019-12-04 03:43:41 [scrapy.core.scraper] DEBUG: Scraped from <200 https://m.irgo.co.kr/IR%EC%9E%90%EB%A3%8C/28197/TB/BNK%EA%B8%88%EC%9C%B5%EC%A7%80%EC%A3%BC-BNK%EA%B8%88%EC%9C%B5%EC%A7%80%EC%A3%BC-2019%EB%85%84-3%EB%B6%84%EA%B8%B0-%EA%B2%BD%EC%98%81%EC%8B%A4%EC%A0%81-%EB%B0%8F-%EC%A3%BC%EC%9A%94-%EA%B4%80%EC%8B%AC%EC%82%AC%ED%95%AD%EC%8B%B1%EA%B0%80%ED%8F%AC%EB%A5%B4-%ED%99%8D%EC%BD%A9>\n",
      "{'date': '2019-12-04',\n",
      " 'fs_link': 'http://comp.fnguide.com/SVO2/ASP/SVD_Main.asp?pGB=1&gicode=A138930',\n",
      " 'ir_link': 'https://file.irgo.co.kr/data/BOARD/ATTACH_PDF/QBZXXFEFKNUNKUT97JG2TYHB3C67C63V2019123105846.pdf',\n",
      " 'name': 'BNK금융지주'}\n",
      "2019-12-04 03:43:41 [scrapy.core.engine] INFO: Closing spider (finished)\n",
      "2019-12-04 03:43:41 [scrapy.extensions.feedexport] INFO: Stored csv feed (16 items) in: IRCrawler.csv\n",
      "2019-12-04 03:43:41 [scrapy.statscollectors] INFO: Dumping Scrapy stats:\n",
      "{'downloader/request_bytes': 10073,\n",
      " 'downloader/request_count': 19,\n",
      " 'downloader/request_method_count/GET': 19,\n",
      " 'downloader/response_bytes': 102944,\n",
      " 'downloader/response_count': 19,\n",
      " 'downloader/response_status_count/200': 19,\n",
      " 'elapsed_time_seconds': 5.040616,\n",
      " 'finish_reason': 'finished',\n",
      " 'finish_time': datetime.datetime(2019, 12, 3, 18, 43, 41, 877201),\n",
      " 'item_scraped_count': 16,\n",
      " 'log_count/DEBUG': 35,\n",
      " 'log_count/ERROR': 1,\n",
      " 'log_count/INFO': 11,\n",
      " 'memusage/max': 53727232,\n",
      " 'memusage/startup': 53727232,\n",
      " 'request_depth_max': 1,\n",
      " 'response_received_count': 19,\n",
      " 'robotstxt/request_count': 1,\n",
      " 'robotstxt/response_count': 1,\n",
      " 'robotstxt/response_status_count/200': 1,\n",
      " 'scheduler/dequeued': 18,\n",
      " 'scheduler/dequeued/memory': 18,\n",
      " 'scheduler/enqueued': 18,\n",
      " 'scheduler/enqueued/memory': 18,\n",
      " 'spider_exceptions/IndexError': 1,\n",
      " 'start_time': datetime.datetime(2019, 12, 3, 18, 43, 36, 836585)}\n",
      "2019-12-04 03:43:41 [scrapy.core.engine] INFO: Spider closed (finished)\n"
     ]
    }
   ],
   "source": [
    "!./run.sh"
   ]
  },
  {
   "cell_type": "code",
   "execution_count": 142,
   "metadata": {},
   "outputs": [
    {
     "data": {
      "text/html": [
       "<div>\n",
       "<style scoped>\n",
       "    .dataframe tbody tr th:only-of-type {\n",
       "        vertical-align: middle;\n",
       "    }\n",
       "\n",
       "    .dataframe tbody tr th {\n",
       "        vertical-align: top;\n",
       "    }\n",
       "\n",
       "    .dataframe thead th {\n",
       "        text-align: right;\n",
       "    }\n",
       "</style>\n",
       "<table border=\"1\" class=\"dataframe\">\n",
       "  <thead>\n",
       "    <tr style=\"text-align: right;\">\n",
       "      <th></th>\n",
       "      <th>date</th>\n",
       "      <th>fs_link</th>\n",
       "      <th>ir_link</th>\n",
       "      <th>name</th>\n",
       "    </tr>\n",
       "  </thead>\n",
       "  <tbody>\n",
       "    <tr>\n",
       "      <th>0</th>\n",
       "      <td>2019-12-04</td>\n",
       "      <td>http://comp.fnguide.com/SVO2/ASP/SVD_Main.asp?...</td>\n",
       "      <td>https://file.irgo.co.kr/data/BOARD/ATTACH_PDF/...</td>\n",
       "      <td>코스맥스</td>\n",
       "    </tr>\n",
       "    <tr>\n",
       "      <th>1</th>\n",
       "      <td>2019-12-04</td>\n",
       "      <td>http://comp.fnguide.com/SVO2/ASP/SVD_Main.asp?...</td>\n",
       "      <td>https://file.irgo.co.kr/data/BOARD/ATTACH_PDF/...</td>\n",
       "      <td>유니퀘스트</td>\n",
       "    </tr>\n",
       "    <tr>\n",
       "      <th>2</th>\n",
       "      <td>2019-12-04</td>\n",
       "      <td>http://comp.fnguide.com/SVO2/ASP/SVD_Main.asp?...</td>\n",
       "      <td>https://m.irgo.co.kr/IR%EC%9E%90%EB%A3%8C/2818...</td>\n",
       "      <td>신성이엔지</td>\n",
       "    </tr>\n",
       "    <tr>\n",
       "      <th>3</th>\n",
       "      <td>2019-12-04</td>\n",
       "      <td>http://comp.fnguide.com/SVO2/ASP/SVD_Main.asp?...</td>\n",
       "      <td>https://file.irgo.co.kr/data/BOARD/ATTACH_PDF/...</td>\n",
       "      <td>롯데지주</td>\n",
       "    </tr>\n",
       "    <tr>\n",
       "      <th>4</th>\n",
       "      <td>2019-12-04</td>\n",
       "      <td>http://comp.fnguide.com/SVO2/ASP/SVD_Main.asp?...</td>\n",
       "      <td>https://file.irgo.co.kr/data/BOARD/ATTACH_PDF/...</td>\n",
       "      <td>한세예스24홀딩스</td>\n",
       "    </tr>\n",
       "    <tr>\n",
       "      <th>5</th>\n",
       "      <td>2019-12-04</td>\n",
       "      <td>http://comp.fnguide.com/SVO2/ASP/SVD_Main.asp?...</td>\n",
       "      <td>https://file.irgo.co.kr/data/BOARD/ATTACH_PDF/...</td>\n",
       "      <td>브레인콘텐츠</td>\n",
       "    </tr>\n",
       "    <tr>\n",
       "      <th>6</th>\n",
       "      <td>2019-12-04</td>\n",
       "      <td>http://comp.fnguide.com/SVO2/ASP/SVD_Main.asp?...</td>\n",
       "      <td>https://file.irgo.co.kr/data/BOARD/ATTACH_PDF/...</td>\n",
       "      <td>디케이앤디</td>\n",
       "    </tr>\n",
       "    <tr>\n",
       "      <th>7</th>\n",
       "      <td>2019-12-04</td>\n",
       "      <td>http://comp.fnguide.com/SVO2/ASP/SVD_Main.asp?...</td>\n",
       "      <td>https://file.irgo.co.kr/data/BOARD/ATTACH_PDF/...</td>\n",
       "      <td>코스맥스</td>\n",
       "    </tr>\n",
       "    <tr>\n",
       "      <th>8</th>\n",
       "      <td>2019-12-04</td>\n",
       "      <td>http://comp.fnguide.com/SVO2/ASP/SVD_Main.asp?...</td>\n",
       "      <td>https://file.irgo.co.kr/data/BOARD/ATTACH_PDF/...</td>\n",
       "      <td>코스맥스비티아이</td>\n",
       "    </tr>\n",
       "    <tr>\n",
       "      <th>9</th>\n",
       "      <td>2019-12-04</td>\n",
       "      <td>http://comp.fnguide.com/SVO2/ASP/SVD_Main.asp?...</td>\n",
       "      <td>https://file.irgo.co.kr/data/BOARD/ATTACH_PDF/...</td>\n",
       "      <td>현대모비스</td>\n",
       "    </tr>\n",
       "    <tr>\n",
       "      <th>10</th>\n",
       "      <td>2019-12-04</td>\n",
       "      <td>http://comp.fnguide.com/SVO2/ASP/SVD_Main.asp?...</td>\n",
       "      <td>https://file.irgo.co.kr/data/BOARD/ATTACH_PDF/...</td>\n",
       "      <td>호전실업</td>\n",
       "    </tr>\n",
       "    <tr>\n",
       "      <th>11</th>\n",
       "      <td>2019-12-04</td>\n",
       "      <td>http://comp.fnguide.com/SVO2/ASP/SVD_Main.asp?...</td>\n",
       "      <td>https://file.irgo.co.kr/data/BOARD/ATTACH_PDF/...</td>\n",
       "      <td>BNK금융지주</td>\n",
       "    </tr>\n",
       "    <tr>\n",
       "      <th>12</th>\n",
       "      <td>2019-12-04</td>\n",
       "      <td>http://comp.fnguide.com/SVO2/ASP/SVD_Main.asp?...</td>\n",
       "      <td>https://m.irgo.co.kr/IR%EC%9E%90%EB%A3%8C/2818...</td>\n",
       "      <td>이스트소프트</td>\n",
       "    </tr>\n",
       "    <tr>\n",
       "      <th>13</th>\n",
       "      <td>2019-12-04</td>\n",
       "      <td>http://comp.fnguide.com/SVO2/ASP/SVD_Main.asp?...</td>\n",
       "      <td>https://file.irgo.co.kr/data/BOARD/ATTACH_PDF/...</td>\n",
       "      <td>현대제철</td>\n",
       "    </tr>\n",
       "    <tr>\n",
       "      <th>14</th>\n",
       "      <td>2019-12-04</td>\n",
       "      <td>http://comp.fnguide.com/SVO2/ASP/SVD_Main.asp?...</td>\n",
       "      <td>https://file.irgo.co.kr/data/BOARD/ATTACH_PDF/...</td>\n",
       "      <td>코리아센터</td>\n",
       "    </tr>\n",
       "    <tr>\n",
       "      <th>15</th>\n",
       "      <td>2019-12-04</td>\n",
       "      <td>http://comp.fnguide.com/SVO2/ASP/SVD_Main.asp?...</td>\n",
       "      <td>https://file.irgo.co.kr/data/BOARD/ATTACH_PDF/...</td>\n",
       "      <td>코스맥스비티아이</td>\n",
       "    </tr>\n",
       "  </tbody>\n",
       "</table>\n",
       "</div>"
      ],
      "text/plain": [
       "          date                                            fs_link  \\\n",
       "0   2019-12-04  http://comp.fnguide.com/SVO2/ASP/SVD_Main.asp?...   \n",
       "1   2019-12-04  http://comp.fnguide.com/SVO2/ASP/SVD_Main.asp?...   \n",
       "2   2019-12-04  http://comp.fnguide.com/SVO2/ASP/SVD_Main.asp?...   \n",
       "3   2019-12-04  http://comp.fnguide.com/SVO2/ASP/SVD_Main.asp?...   \n",
       "4   2019-12-04  http://comp.fnguide.com/SVO2/ASP/SVD_Main.asp?...   \n",
       "5   2019-12-04  http://comp.fnguide.com/SVO2/ASP/SVD_Main.asp?...   \n",
       "6   2019-12-04  http://comp.fnguide.com/SVO2/ASP/SVD_Main.asp?...   \n",
       "7   2019-12-04  http://comp.fnguide.com/SVO2/ASP/SVD_Main.asp?...   \n",
       "8   2019-12-04  http://comp.fnguide.com/SVO2/ASP/SVD_Main.asp?...   \n",
       "9   2019-12-04  http://comp.fnguide.com/SVO2/ASP/SVD_Main.asp?...   \n",
       "10  2019-12-04  http://comp.fnguide.com/SVO2/ASP/SVD_Main.asp?...   \n",
       "11  2019-12-04  http://comp.fnguide.com/SVO2/ASP/SVD_Main.asp?...   \n",
       "12  2019-12-04  http://comp.fnguide.com/SVO2/ASP/SVD_Main.asp?...   \n",
       "13  2019-12-04  http://comp.fnguide.com/SVO2/ASP/SVD_Main.asp?...   \n",
       "14  2019-12-04  http://comp.fnguide.com/SVO2/ASP/SVD_Main.asp?...   \n",
       "15  2019-12-04  http://comp.fnguide.com/SVO2/ASP/SVD_Main.asp?...   \n",
       "\n",
       "                                              ir_link       name  \n",
       "0   https://file.irgo.co.kr/data/BOARD/ATTACH_PDF/...       코스맥스  \n",
       "1   https://file.irgo.co.kr/data/BOARD/ATTACH_PDF/...      유니퀘스트  \n",
       "2   https://m.irgo.co.kr/IR%EC%9E%90%EB%A3%8C/2818...      신성이엔지  \n",
       "3   https://file.irgo.co.kr/data/BOARD/ATTACH_PDF/...       롯데지주  \n",
       "4   https://file.irgo.co.kr/data/BOARD/ATTACH_PDF/...  한세예스24홀딩스  \n",
       "5   https://file.irgo.co.kr/data/BOARD/ATTACH_PDF/...     브레인콘텐츠  \n",
       "6   https://file.irgo.co.kr/data/BOARD/ATTACH_PDF/...      디케이앤디  \n",
       "7   https://file.irgo.co.kr/data/BOARD/ATTACH_PDF/...       코스맥스  \n",
       "8   https://file.irgo.co.kr/data/BOARD/ATTACH_PDF/...   코스맥스비티아이  \n",
       "9   https://file.irgo.co.kr/data/BOARD/ATTACH_PDF/...      현대모비스  \n",
       "10  https://file.irgo.co.kr/data/BOARD/ATTACH_PDF/...       호전실업  \n",
       "11  https://file.irgo.co.kr/data/BOARD/ATTACH_PDF/...    BNK금융지주  \n",
       "12  https://m.irgo.co.kr/IR%EC%9E%90%EB%A3%8C/2818...     이스트소프트  \n",
       "13  https://file.irgo.co.kr/data/BOARD/ATTACH_PDF/...       현대제철  \n",
       "14  https://file.irgo.co.kr/data/BOARD/ATTACH_PDF/...      코리아센터  \n",
       "15  https://file.irgo.co.kr/data/BOARD/ATTACH_PDF/...   코스맥스비티아이  "
      ]
     },
     "execution_count": 142,
     "metadata": {},
     "output_type": "execute_result"
    }
   ],
   "source": [
    "import pandas as pd\n",
    "df = pd.read_csv(\"ir_crawler/IRCrawler.csv\")\n",
    "df"
   ]
  }
 ],
 "metadata": {
  "kernelspec": {
   "display_name": "Python 3",
   "language": "python",
   "name": "python3"
  },
  "language_info": {
   "codemirror_mode": {
    "name": "ipython",
    "version": 3
   },
   "file_extension": ".py",
   "mimetype": "text/x-python",
   "name": "python",
   "nbconvert_exporter": "python",
   "pygments_lexer": "ipython3",
   "version": "3.6.9"
  }
 },
 "nbformat": 4,
 "nbformat_minor": 2
}
